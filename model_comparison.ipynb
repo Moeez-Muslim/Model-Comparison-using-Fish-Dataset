{
 "cells": [
  {
   "attachments": {},
   "cell_type": "markdown",
   "metadata": {
    "datalore": {
     "hide_input_from_viewers": true,
     "hide_output_from_viewers": true,
     "node_id": "PvlQ8rZWzdbTrdoV2F2XSl",
     "type": "MD"
    }
   },
   "source": [
    "# Assignment 4\n",
    "## Model Comparison using Fish Dataset"
   ]
  },
  {
   "attachments": {},
   "cell_type": "markdown",
   "metadata": {
    "datalore": {
     "hide_input_from_viewers": true,
     "hide_output_from_viewers": true,
     "node_id": "I0QoJsmsLORmPWfpm6OZM1",
     "type": "MD"
    }
   },
   "source": [
    "### What we'll be doing\n",
    "We'll compare two models, specifically **linear & polynomial** model using the arviz library.\n",
    "\n",
    "Both models will use:\n",
    "\n",
    "+ Width as independent variable\n",
    "+ Height as dependent variable"
   ]
  },
  {
   "attachments": {},
   "cell_type": "markdown",
   "metadata": {
    "datalore": {
     "hide_input_from_viewers": true,
     "hide_output_from_viewers": true,
     "node_id": "UbrreipIg2kbTPCCLprmop",
     "type": "MD"
    }
   },
   "source": [
    "### Let's import the required libraries"
   ]
  },
  {
   "cell_type": "code",
   "execution_count": 12,
   "metadata": {
    "datalore": {
     "hide_input_from_viewers": true,
     "hide_output_from_viewers": true,
     "node_id": "F5JOJDeG9yDfgd2yB0ch3J",
     "type": "CODE"
    }
   },
   "outputs": [],
   "source": [
    "import pymc as pm\n",
    "import pandas as pd\n",
    "import arviz as az"
   ]
  },
  {
   "attachments": {},
   "cell_type": "markdown",
   "metadata": {
    "datalore": {
     "hide_input_from_viewers": true,
     "hide_output_from_viewers": true,
     "node_id": "Q5514VVTcyAivyiqzuD101",
     "type": "MD"
    }
   },
   "source": [
    "### Reading the dataset\n",
    "Let's import the fish.csv file and read 'Height' & 'Width' column.\n",
    "\n",
    "- X: Width  \n",
    "- Y: Height"
   ]
  },
  {
   "cell_type": "code",
   "execution_count": 13,
   "metadata": {
    "datalore": {
     "hide_input_from_viewers": true,
     "hide_output_from_viewers": true,
     "node_id": "JfoZp0riMlwTFTzXmRvE6U",
     "type": "CODE"
    }
   },
   "outputs": [],
   "source": [
    "data = pd.read_csv(\"fish.csv\")\n",
    "x = data.Width.values\n",
    "y = data.Height.values"
   ]
  },
  {
   "attachments": {},
   "cell_type": "markdown",
   "metadata": {
    "datalore": {
     "hide_input_from_viewers": true,
     "hide_output_from_viewers": true,
     "node_id": "8vJoqo21frcQhL4CPEjIRL",
     "type": "MD"
    }
   },
   "source": [
    "## Creating the Linear Model\n",
    "\n",
    "Now, let's create a linear model using the variables 'Width' and 'Height'.\n",
    "\n",
    "The linear regression model is represented as:"
   ]
  },
  {
   "cell_type": "code",
   "execution_count": 14,
   "metadata": {
    "datalore": {
     "hide_input_from_viewers": true,
     "hide_output_from_viewers": true,
     "node_id": "CPwrGwcl98LoahW5rIcggD",
     "type": "CODE"
    }
   },
   "outputs": [
    {
     "name": "stderr",
     "output_type": "stream",
     "text": [
      "Auto-assigning NUTS sampler...\n",
      "Initializing NUTS using jitter+adapt_diag...\n",
      "Sequential sampling (2 chains in 1 job)\n",
      "NUTS: [α, β, ϵ]\n",
      "Sampling 2 chains for 1_000 tune and 2_000 draw iterations (2_000 + 4_000 draws total) took 16 seconds.\n",
      "We recommend running at least 4 chains for robust computation of convergence diagnostics\n"
     ]
    },
    {
     "data": {
      "text/html": [
       "\n",
       "<style>\n",
       "    /* Turns off some styling */\n",
       "    progress {\n",
       "        /* gets rid of default border in Firefox and Opera. */\n",
       "        border: none;\n",
       "        /* Needs to be in here for Safari polyfill so background images work as expected. */\n",
       "        background-size: auto;\n",
       "    }\n",
       "    progress:not([value]), progress:not([value])::-webkit-progress-bar {\n",
       "        background: repeating-linear-gradient(45deg, #7e7e7e, #7e7e7e 10px, #5c5c5c 10px, #5c5c5c 20px);\n",
       "    }\n",
       "    .progress-bar-interrupted, .progress-bar-interrupted::-webkit-progress-bar {\n",
       "        background: #F44336;\n",
       "    }\n",
       "</style>\n"
      ]
     },
     "metadata": {},
     "output_type": "display_data"
    },
    {
     "data": {
      "text/html": [
       "\n",
       "    <div>\n",
       "      <progress value='3000' class='' max='3000' style='width:300px; height:20px; vertical-align: middle;'></progress>\n",
       "      100.00% [3000/3000 00:07&lt;00:00 Sampling chain 0, 0 divergences]\n",
       "    </div>\n",
       "    "
      ]
     },
     "metadata": {},
     "output_type": "display_data"
    },
    {
     "data": {
      "text/html": [
       "\n",
       "<style>\n",
       "    /* Turns off some styling */\n",
       "    progress {\n",
       "        /* gets rid of default border in Firefox and Opera. */\n",
       "        border: none;\n",
       "        /* Needs to be in here for Safari polyfill so background images work as expected. */\n",
       "        background-size: auto;\n",
       "    }\n",
       "    progress:not([value]), progress:not([value])::-webkit-progress-bar {\n",
       "        background: repeating-linear-gradient(45deg, #7e7e7e, #7e7e7e 10px, #5c5c5c 10px, #5c5c5c 20px);\n",
       "    }\n",
       "    .progress-bar-interrupted, .progress-bar-interrupted::-webkit-progress-bar {\n",
       "        background: #F44336;\n",
       "    }\n",
       "</style>\n"
      ]
     },
     "metadata": {},
     "output_type": "display_data"
    },
    {
     "data": {
      "text/html": [
       "\n",
       "    <div>\n",
       "      <progress value='3000' class='' max='3000' style='width:300px; height:20px; vertical-align: middle;'></progress>\n",
       "      100.00% [3000/3000 00:08&lt;00:00 Sampling chain 1, 0 divergences]\n",
       "    </div>\n",
       "    "
      ]
     },
     "metadata": {},
     "output_type": "display_data"
    }
   ],
   "source": [
    "with pm.Model() as model_linear:\n",
    "    α = pm.Normal('α', mu=0, sigma=1)\n",
    "    β = pm.Normal('β', mu=0, sigma=10)\n",
    "    ϵ = pm.HalfNormal('ϵ', 5)\n",
    "\n",
    "    μ = α + β * x\n",
    "\n",
    "    y_pred1 = pm.Normal('y_pred1', mu=μ, sigma=ϵ, observed=y)\n",
    "\n",
    "    idata_linear = pm.sample(2000, idata_kwargs={'log_likelihood': True})"
   ]
  },
  {
   "attachments": {},
   "cell_type": "markdown",
   "metadata": {
    "datalore": {
     "hide_input_from_viewers": true,
     "hide_output_from_viewers": true,
     "node_id": "geFpSZTJvY7JjyFHrRowoB",
     "type": "MD"
    }
   },
   "source": [
    "## Creating the Polynomial Model\n",
    "\n",
    "Now, let's create a polynomial model using the variables 'Width' and 'Height'.\n",
    "\n",
    "The polynomial regression model is represented as:"
   ]
  },
  {
   "cell_type": "code",
   "execution_count": 15,
   "metadata": {
    "datalore": {
     "hide_input_from_viewers": true,
     "hide_output_from_viewers": true,
     "node_id": "iXj0UiZmOFVKZBsn3BSOQQ",
     "type": "CODE"
    }
   },
   "outputs": [
    {
     "name": "stderr",
     "output_type": "stream",
     "text": [
      "Auto-assigning NUTS sampler...\n",
      "Initializing NUTS using jitter+adapt_diag...\n",
      "Sequential sampling (2 chains in 1 job)\n",
      "NUTS: [α, β1, β2, ϵ]\n",
      "Sampling 2 chains for 1_000 tune and 2_000 draw iterations (2_000 + 4_000 draws total) took 46 seconds.\n",
      "We recommend running at least 4 chains for robust computation of convergence diagnostics\n"
     ]
    },
    {
     "data": {
      "text/html": [
       "\n",
       "<style>\n",
       "    /* Turns off some styling */\n",
       "    progress {\n",
       "        /* gets rid of default border in Firefox and Opera. */\n",
       "        border: none;\n",
       "        /* Needs to be in here for Safari polyfill so background images work as expected. */\n",
       "        background-size: auto;\n",
       "    }\n",
       "    progress:not([value]), progress:not([value])::-webkit-progress-bar {\n",
       "        background: repeating-linear-gradient(45deg, #7e7e7e, #7e7e7e 10px, #5c5c5c 10px, #5c5c5c 20px);\n",
       "    }\n",
       "    .progress-bar-interrupted, .progress-bar-interrupted::-webkit-progress-bar {\n",
       "        background: #F44336;\n",
       "    }\n",
       "</style>\n"
      ]
     },
     "metadata": {},
     "output_type": "display_data"
    },
    {
     "data": {
      "text/html": [
       "\n",
       "    <div>\n",
       "      <progress value='3000' class='' max='3000' style='width:300px; height:20px; vertical-align: middle;'></progress>\n",
       "      100.00% [3000/3000 00:24&lt;00:00 Sampling chain 0, 0 divergences]\n",
       "    </div>\n",
       "    "
      ]
     },
     "metadata": {},
     "output_type": "display_data"
    },
    {
     "data": {
      "text/html": [
       "\n",
       "<style>\n",
       "    /* Turns off some styling */\n",
       "    progress {\n",
       "        /* gets rid of default border in Firefox and Opera. */\n",
       "        border: none;\n",
       "        /* Needs to be in here for Safari polyfill so background images work as expected. */\n",
       "        background-size: auto;\n",
       "    }\n",
       "    progress:not([value]), progress:not([value])::-webkit-progress-bar {\n",
       "        background: repeating-linear-gradient(45deg, #7e7e7e, #7e7e7e 10px, #5c5c5c 10px, #5c5c5c 20px);\n",
       "    }\n",
       "    .progress-bar-interrupted, .progress-bar-interrupted::-webkit-progress-bar {\n",
       "        background: #F44336;\n",
       "    }\n",
       "</style>\n"
      ]
     },
     "metadata": {},
     "output_type": "display_data"
    },
    {
     "data": {
      "text/html": [
       "\n",
       "    <div>\n",
       "      <progress value='3000' class='' max='3000' style='width:300px; height:20px; vertical-align: middle;'></progress>\n",
       "      100.00% [3000/3000 00:22&lt;00:00 Sampling chain 1, 0 divergences]\n",
       "    </div>\n",
       "    "
      ]
     },
     "metadata": {},
     "output_type": "display_data"
    }
   ],
   "source": [
    "with pm.Model() as model_polynomial:\n",
    "    α = pm.Normal('α', mu=0, sigma=1)\n",
    "    β1 = pm.Normal('β1', mu=0, sigma=10)\n",
    "    β2 = pm.Normal('β2', mu=0, sigma=10)\n",
    "    ϵ = pm.HalfNormal('ϵ', 5)\n",
    "\n",
    "    μ = α + (β1 * x) + (β2 * x**2)\n",
    "\n",
    "    y_pred2 = pm.Normal('y_pred2', mu=μ, sigma=ϵ, observed=y)\n",
    "\n",
    "    idata_polynomial = pm.sample(2000, idata_kwargs={'log_likelihood': True})"
   ]
  },
  {
   "attachments": {},
   "cell_type": "markdown",
   "metadata": {
    "datalore": {
     "hide_input_from_viewers": true,
     "hide_output_from_viewers": true,
     "node_id": "bZVoaOJGs4MwHpWWha1Hh5",
     "type": "MD"
    }
   },
   "source": [
    "### Model comparison using ARVIZ\n",
    "Now, we'll compare both our models **az.compare()** function of library arviz which will provide us with table of values including **elpd_loo, p_loo & elpd_diff**."
   ]
  },
  {
   "cell_type": "code",
   "execution_count": 16,
   "metadata": {
    "datalore": {
     "hide_input_from_viewers": true,
     "hide_output_from_viewers": true,
     "node_id": "rK2U6ETkHZzz2vaoki2YwW",
     "type": "CODE"
    }
   },
   "outputs": [],
   "source": [
    "comparison_table = az.compare({ 'model_linear':idata_linear, 'model_polynomial':idata_polynomial }, method='BB-pseudo-BMA', ic=\"loo\", scale=\"deviance\")"
   ]
  },
  {
   "cell_type": "code",
   "execution_count": 17,
   "metadata": {
    "datalore": {
     "hide_input_from_viewers": true,
     "hide_output_from_viewers": true,
     "node_id": "GBMXYg7s6Czrs89X5eDfIb",
     "type": "CODE"
    }
   },
   "outputs": [
    {
     "data": {
      "text/html": [
       "<div>\n",
       "<style scoped>\n",
       "    .dataframe tbody tr th:only-of-type {\n",
       "        vertical-align: middle;\n",
       "    }\n",
       "\n",
       "    .dataframe tbody tr th {\n",
       "        vertical-align: top;\n",
       "    }\n",
       "\n",
       "    .dataframe thead th {\n",
       "        text-align: right;\n",
       "    }\n",
       "</style>\n",
       "<table border=\"1\" class=\"dataframe\">\n",
       "  <thead>\n",
       "    <tr style=\"text-align: right;\">\n",
       "      <th></th>\n",
       "      <th>rank</th>\n",
       "      <th>elpd_loo</th>\n",
       "      <th>p_loo</th>\n",
       "      <th>elpd_diff</th>\n",
       "      <th>weight</th>\n",
       "      <th>se</th>\n",
       "      <th>dse</th>\n",
       "      <th>warning</th>\n",
       "      <th>scale</th>\n",
       "    </tr>\n",
       "  </thead>\n",
       "  <tbody>\n",
       "    <tr>\n",
       "      <th>model_polynomial</th>\n",
       "      <td>0</td>\n",
       "      <td>754.369590</td>\n",
       "      <td>2.888486</td>\n",
       "      <td>0.000000</td>\n",
       "      <td>0.90147</td>\n",
       "      <td>14.099241</td>\n",
       "      <td>0.000000</td>\n",
       "      <td>False</td>\n",
       "      <td>deviance</td>\n",
       "    </tr>\n",
       "    <tr>\n",
       "      <th>model_linear</th>\n",
       "      <td>1</td>\n",
       "      <td>760.950569</td>\n",
       "      <td>2.522283</td>\n",
       "      <td>6.580979</td>\n",
       "      <td>0.09853</td>\n",
       "      <td>14.112204</td>\n",
       "      <td>3.787692</td>\n",
       "      <td>False</td>\n",
       "      <td>deviance</td>\n",
       "    </tr>\n",
       "  </tbody>\n",
       "</table>\n",
       "</div>"
      ]
     },
     "metadata": {},
     "output_type": "display_data"
    }
   ],
   "source": [
    "comparison_table"
   ]
  },
  {
   "attachments": {},
   "cell_type": "markdown",
   "metadata": {
    "datalore": {
     "hide_input_from_viewers": true,
     "hide_output_from_viewers": true,
     "node_id": "n22JQ6kfHmSn3KpmVgBnVX",
     "type": "MD"
    }
   },
   "source": [
    "## Analysis\n",
    "Let's try to answer the following questions based on the table above:\n",
    "\n",
    "- Which model do you think is better from predictive accuracy point of view and why?\n",
    "- Which model is complex and why?"
   ]
  },
  {
   "attachments": {},
   "cell_type": "markdown",
   "metadata": {
    "datalore": {
     "hide_input_from_viewers": true,
     "hide_output_from_viewers": true,
     "node_id": "5b11gCGC5AgV7Z4FPqwVkk",
     "type": "MD"
    }
   },
   "source": [
    "## Predictive Accuracy\n",
    "#### LOO-CV (Leave-One-Out Cross-Validation) and ELPD (Expected Log Pointwise Predictive Density):\n",
    "\n",
    "Lower LOO-CV values and higher ELPD indicate better predictive accuracy.\n",
    "In our case, the **model_polynomial** has a slightly higher ELPD than model_linear, indicating better predictive accuracy. This is supported by the lower LOO-CV value for model_polynomial.\n",
    "\n",
    "#### p_LOO (Effective Number of Parameters):\n",
    "\n",
    "A lower value suggests a more parsimonious model.\n",
    "model_polynomial has a higher p_LOO, indicating more effective parameters in the model compared to model_linear."
   ]
  },
  {
   "attachments": {},
   "cell_type": "markdown",
   "metadata": {
    "datalore": {
     "hide_input_from_viewers": true,
     "hide_output_from_viewers": true,
     "node_id": "lx3U2NybABWh6tqBaiOI54",
     "type": "MD"
    }
   },
   "source": [
    "## Model Complexity\n",
    "#### LOO-CV and ELPD Difference:\n",
    "\n",
    "The ELPD difference is the difference in predictive accuracy between the models.\n",
    "A smaller ELPD difference suggests that the simpler model (with lower ELPD) is sufficient.\n",
    "\n",
    "#### p_LOO:\n",
    "\n",
    "A higher p_LOO suggests a more complex model.\n",
    "**model_polynomial** has a higher p_LOO, indicating higher complexity."
   ]
  },
  {
   "attachments": {},
   "cell_type": "markdown",
   "metadata": {
    "datalore": {
     "hide_input_from_viewers": true,
     "hide_output_from_viewers": true,
     "node_id": "FPTkfsYSy4YnnRR6iyROqb",
     "type": "MD"
    }
   },
   "source": [
    "## Conclusion\n",
    "Based on our analysis\n",
    "\n",
    "### Predictive Accuracy:\n",
    "\n",
    "The **model_polynomial** appears to have slightly better predictive accuracy, as indicated by the slightly higher ELPD and lower LOO-CV compared to model_linear.\n",
    "\n",
    "### Model Complexity:\n",
    "\n",
    "The **model_polynomial** is more complex, as indicated by its higher p_LOO."
   ]
  }
 ],
 "metadata": {
  "datalore": {
   "base_environment": "default",
   "computation_mode": "JUPYTER",
   "package_manager": "pip",
   "packages": [
    {
     "name": "pymc",
     "source": "PIP",
     "version": "5.6.1"
    }
   ],
   "report_row_ids": [],
   "version": 3
  },
  "kernelspec": {
   "display_name": "Python 3 (ipykernel)",
   "language": "python",
   "name": "python3"
  },
  "language_info": {
   "codemirror_mode": {
    "name": "ipython",
    "version": 3
   },
   "file_extension": ".py",
   "mimetype": "text/x-python",
   "name": "python",
   "nbconvert_exporter": "python",
   "pygments_lexer": "ipython3",
   "version": "3.11.5"
  }
 },
 "nbformat": 4,
 "nbformat_minor": 4
}
